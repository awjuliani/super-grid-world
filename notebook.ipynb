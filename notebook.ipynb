{
 "cells": [
  {
   "cell_type": "code",
   "execution_count": null,
   "metadata": {},
   "outputs": [],
   "source": [
    "from sgw.env import SuperGridWorld, ObsType, ControlType\n",
    "import matplotlib.pyplot as plt\n",
    "\n",
    "env = SuperGridWorld(\n",
    "    obs_type=ObsType.language,\n",
    "    control_type=ControlType.egocentric,\n",
    "    grid_shape=(7, 7),\n",
    "    template_name=\"linked_door_test\",\n",
    "    resolution=256,\n",
    "    field_of_view=1,\n",
    "    add_outer_walls=True,\n",
    "    num_agents=1,\n",
    ")\n",
    "\n",
    "obs = env.reset()\n",
    "\n",
    "env.render()\n",
    "\n",
    "if env.obs_type == ObsType.language:\n",
    "    print(obs[0])\n",
    "else:\n",
    "    # remove the axes and labels\n",
    "    plt.imshow(obs[0])\n",
    "    plt.axis(\"off\")\n",
    "    plt.show()"
   ]
  },
  {
   "cell_type": "code",
   "execution_count": 2,
   "metadata": {},
   "outputs": [],
   "source": [
    "sequence = [2, 0, 2, 0, 0, 2, 0, 2, 2]"
   ]
  },
  {
   "cell_type": "code",
   "execution_count": null,
   "metadata": {},
   "outputs": [],
   "source": [
    "for i in range(len(sequence)):\n",
    "    obs, reward, done, info = env.step([sequence[i]])\n",
    "    print(info)\n",
    "    env.render()\n",
    "    if env.obs_type == ObsType.language:\n",
    "        print(obs[0])\n",
    "    else:\n",
    "        plt.imshow(obs[0])\n",
    "        plt.axis(\"off\")\n",
    "        plt.show()"
   ]
  }
 ],
 "metadata": {
  "kernelspec": {
   "display_name": "base",
   "language": "python",
   "name": "python3"
  },
  "language_info": {
   "codemirror_mode": {
    "name": "ipython",
    "version": 3
   },
   "file_extension": ".py",
   "mimetype": "text/x-python",
   "name": "python",
   "nbconvert_exporter": "python",
   "pygments_lexer": "ipython3",
   "version": "3.10.16"
  }
 },
 "nbformat": 4,
 "nbformat_minor": 2
}
