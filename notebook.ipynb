{
 "cells": [
  {
   "cell_type": "code",
   "execution_count": null,
   "metadata": {},
   "outputs": [],
   "source": [
    "from sgw.env import SuperGridWorld, ObsType, ControlType\n",
    "from sgw.object import Tree, Fruit\n",
    "import matplotlib.pyplot as plt\n",
    "\n",
    "env = SuperGridWorld(\n",
    "    obs_type=ObsType.visual_2d,\n",
    "    control_type=ControlType.egocentric,\n",
    "    grid_shape=(5, 6),\n",
    "    template_name=\"empty\",\n",
    "    resolution=256,\n",
    "    field_of_view=1,\n",
    "    add_outer_walls=False,\n",
    "    num_agents=1,\n",
    ")\n",
    "\n",
    "objects = {\n",
    "    \"trees\": [Tree([2, 2])],\n",
    "    \"fruits\": [],\n",
    "}\n",
    "obs = env.reset(objects=objects)\n",
    "\n",
    "obs, reward, done, info = env.step([0])\n",
    "\n",
    "env.render()\n",
    "\n",
    "plt.imshow(obs[0])"
   ]
  },
  {
   "cell_type": "code",
   "execution_count": null,
   "metadata": {},
   "outputs": [],
   "source": [
    "obs, reward, done, info = env.step([0])\n",
    "env.render()\n",
    "plt.imshow(obs[0])"
   ]
  }
 ],
 "metadata": {
  "kernelspec": {
   "display_name": "base",
   "language": "python",
   "name": "python3"
  },
  "language_info": {
   "codemirror_mode": {
    "name": "ipython",
    "version": 3
   },
   "file_extension": ".py",
   "mimetype": "text/x-python",
   "name": "python",
   "nbconvert_exporter": "python",
   "pygments_lexer": "ipython3",
   "version": "3.10.16"
  }
 },
 "nbformat": 4,
 "nbformat_minor": 2
}
