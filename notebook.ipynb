{
 "cells": [
  {
   "cell_type": "code",
   "execution_count": null,
   "metadata": {},
   "outputs": [],
   "source": [
    "from sgw.env import SuperGridWorld, ObsType\n",
    "import matplotlib.pyplot as plt\n",
    "\n",
    "env = SuperGridWorld(\n",
    "    obs_type=ObsType.language,\n",
    "    grid_size=5,\n",
    "    template_name=\"empty\",\n",
    "    resolution=512,\n",
    "    vision_range=1,\n",
    "    add_outer_walls=False,\n",
    ")\n",
    "\n",
    "obs = env.reset()\n",
    "\n",
    "obs, reward, done, info = env.step(0)\n",
    "\n",
    "env.render()"
   ]
  },
  {
   "cell_type": "code",
   "execution_count": null,
   "metadata": {},
   "outputs": [],
   "source": [
    "print(obs)"
   ]
  },
  {
   "cell_type": "code",
   "execution_count": null,
   "metadata": {},
   "outputs": [],
   "source": [
    "obs, reward, done, info = env.step(3)\n",
    "env.render()\n",
    "print(obs)"
   ]
  }
 ],
 "metadata": {
  "kernelspec": {
   "display_name": "base",
   "language": "python",
   "name": "python3"
  },
  "language_info": {
   "codemirror_mode": {
    "name": "ipython",
    "version": 3
   },
   "file_extension": ".py",
   "mimetype": "text/x-python",
   "name": "python",
   "nbconvert_exporter": "python",
   "pygments_lexer": "ipython3",
   "version": "3.10.16"
  }
 },
 "nbformat": 4,
 "nbformat_minor": 2
}
