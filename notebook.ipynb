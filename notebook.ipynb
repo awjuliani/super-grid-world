{
 "cells": [
  {
   "cell_type": "code",
   "execution_count": null,
   "metadata": {},
   "outputs": [],
   "source": [
    "from sgw.env import SuperGridWorld, ObsType, ControlType\n",
    "from sgw.object import Tree, Key, Sign, PushableBox\n",
    "import matplotlib.pyplot as plt\n",
    "\n",
    "env = SuperGridWorld(\n",
    "    obs_type=ObsType.language,\n",
    "    control_type=ControlType.allocentric,\n",
    "    grid_shape=(5, 6),\n",
    "    template_name=\"empty\",\n",
    "    resolution=256,\n",
    "    field_of_view=1,\n",
    "    add_outer_walls=False,\n",
    "    num_agents=1,\n",
    ")\n",
    "\n",
    "objects = {\n",
    "    \"trees\": [Tree([2, 2])],\n",
    "    \"fruits\": [],\n",
    "    \"signs\": [Sign([4, 2], \"Fruit tree!\")],\n",
    "    \"pushable_boxes\": [PushableBox([4, 4])],\n",
    "    \"keys\": [Key([3, 3])],\n",
    "}\n",
    "obs = env.reset(objects=objects)\n",
    "\n",
    "obs, reward, done, info = env.step([0])\n",
    "\n",
    "env.render()\n",
    "\n",
    "if env.obs_type == ObsType.language:\n",
    "    print(obs[0])\n",
    "else:\n",
    "    plt.imshow(obs[0])"
   ]
  },
  {
   "cell_type": "code",
   "execution_count": null,
   "metadata": {},
   "outputs": [],
   "source": [
    "state = env.renderer._make_third_person_obs(env)\n",
    "\n",
    "print(state)"
   ]
  },
  {
   "cell_type": "code",
   "execution_count": null,
   "metadata": {},
   "outputs": [],
   "source": [
    "obs, reward, done, info = env.step([0])\n",
    "print(info)\n",
    "env.render()\n",
    "if env.obs_type == ObsType.language:\n",
    "    print(obs[0])\n",
    "else:\n",
    "    plt.imshow(obs[0])"
   ]
  },
  {
   "cell_type": "code",
   "execution_count": null,
   "metadata": {},
   "outputs": [],
   "source": []
  }
 ],
 "metadata": {
  "kernelspec": {
   "display_name": "base",
   "language": "python",
   "name": "python3"
  },
  "language_info": {
   "codemirror_mode": {
    "name": "ipython",
    "version": 3
   },
   "file_extension": ".py",
   "mimetype": "text/x-python",
   "name": "python",
   "nbconvert_exporter": "python",
   "pygments_lexer": "ipython3",
   "version": "3.10.16"
  }
 },
 "nbformat": 4,
 "nbformat_minor": 2
}
