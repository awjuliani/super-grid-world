{
 "cells": [
  {
   "cell_type": "code",
   "execution_count": null,
   "metadata": {},
   "outputs": [],
   "source": [
    "from sgw.env import SuperGridWorld, ObsType\n",
    "\n",
    "env = SuperGridWorld(\n",
    "    obs_type=ObsType.visual,\n",
    "    grid_size=7,\n",
    "    template_name=\"two_rooms\",\n",
    "    resolution=512,\n",
    ")\n",
    "\n",
    "env.reset()\n",
    "\n",
    "obs, reward, done, info = env.step(0)\n",
    "\n",
    "env.render()"
   ]
  },
  {
   "cell_type": "code",
   "execution_count": null,
   "metadata": {},
   "outputs": [],
   "source": [
    "env.step(0)\n",
    "env.render()"
   ]
  }
 ],
 "metadata": {
  "kernelspec": {
   "display_name": "base",
   "language": "python",
   "name": "python3"
  },
  "language_info": {
   "codemirror_mode": {
    "name": "ipython",
    "version": 3
   },
   "file_extension": ".py",
   "mimetype": "text/x-python",
   "name": "python",
   "nbconvert_exporter": "python",
   "pygments_lexer": "ipython3",
   "version": "3.10.16"
  }
 },
 "nbformat": 4,
 "nbformat_minor": 2
}
